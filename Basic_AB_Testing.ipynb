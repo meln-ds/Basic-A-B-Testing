{
  "nbformat": 4,
  "nbformat_minor": 0,
  "metadata": {
    "colab": {
      "name": "Basic AB Testing.ipynb",
      "provenance": [],
      "collapsed_sections": [],
      "include_colab_link": true
    },
    "kernelspec": {
      "name": "python3",
      "display_name": "Python 3"
    }
  },
  "cells": [
    {
      "cell_type": "markdown",
      "metadata": {
        "id": "view-in-github",
        "colab_type": "text"
      },
      "source": [
        "<a href=\"https://colab.research.google.com/github/meln-ds/Basic-A-B-Testing/blob/master/Basic_AB_Testing.ipynb\" target=\"_parent\"><img src=\"https://colab.research.google.com/assets/colab-badge.svg\" alt=\"Open In Colab\"/></a>"
      ]
    },
    {
      "cell_type": "code",
      "metadata": {
        "id": "zxjxGS2gKAAG",
        "colab_type": "code",
        "outputId": "f4987ad8-3951-4cb4-94be-14ac14b216ed",
        "colab": {
          "base_uri": "https://localhost:8080/",
          "height": 309
        }
      },
      "source": [
        "%matplotlib inline\n",
        "\n",
        "import numpy as np\n",
        "import pandas as pd\n",
        "import matplotlib.pyplot as plt\n",
        "from scipy.stats import ttest_ind\n",
        "\n",
        "\n",
        "url = 'https://raw.githubusercontent.com/meln-ds/Basic-A-B-Testing/master/marketing_new.csv'\n",
        "marketing = pd.read_csv(url)\n",
        "\n",
        "# Inspect the columns available\n",
        "marketing.head()"
      ],
      "execution_count": 1,
      "outputs": [
        {
          "output_type": "execute_result",
          "data": {
            "text/html": [
              "<div>\n",
              "<style scoped>\n",
              "    .dataframe tbody tr th:only-of-type {\n",
              "        vertical-align: middle;\n",
              "    }\n",
              "\n",
              "    .dataframe tbody tr th {\n",
              "        vertical-align: top;\n",
              "    }\n",
              "\n",
              "    .dataframe thead th {\n",
              "        text-align: right;\n",
              "    }\n",
              "</style>\n",
              "<table border=\"1\" class=\"dataframe\">\n",
              "  <thead>\n",
              "    <tr style=\"text-align: right;\">\n",
              "      <th></th>\n",
              "      <th>Unnamed: 0</th>\n",
              "      <th>user_id</th>\n",
              "      <th>date_served</th>\n",
              "      <th>marketing_channel</th>\n",
              "      <th>variant</th>\n",
              "      <th>converted</th>\n",
              "      <th>language_displayed</th>\n",
              "      <th>language_preferred</th>\n",
              "      <th>age_group</th>\n",
              "      <th>date_subscribed</th>\n",
              "      <th>date_canceled</th>\n",
              "      <th>subscribing_channel</th>\n",
              "      <th>is_retained</th>\n",
              "      <th>DoW</th>\n",
              "      <th>channel_code</th>\n",
              "      <th>is_correct_lang</th>\n",
              "    </tr>\n",
              "  </thead>\n",
              "  <tbody>\n",
              "    <tr>\n",
              "      <th>0</th>\n",
              "      <td>0</td>\n",
              "      <td>a100000029</td>\n",
              "      <td>2018-01-01</td>\n",
              "      <td>House Ads</td>\n",
              "      <td>personalization</td>\n",
              "      <td>True</td>\n",
              "      <td>English</td>\n",
              "      <td>English</td>\n",
              "      <td>0-18 years</td>\n",
              "      <td>2018-01-01</td>\n",
              "      <td>NaN</td>\n",
              "      <td>House Ads</td>\n",
              "      <td>True</td>\n",
              "      <td>0.0</td>\n",
              "      <td>1.0</td>\n",
              "      <td>Yes</td>\n",
              "    </tr>\n",
              "    <tr>\n",
              "      <th>1</th>\n",
              "      <td>1</td>\n",
              "      <td>a100000030</td>\n",
              "      <td>2018-01-01</td>\n",
              "      <td>House Ads</td>\n",
              "      <td>personalization</td>\n",
              "      <td>True</td>\n",
              "      <td>English</td>\n",
              "      <td>English</td>\n",
              "      <td>19-24 years</td>\n",
              "      <td>2018-01-01</td>\n",
              "      <td>NaN</td>\n",
              "      <td>House Ads</td>\n",
              "      <td>True</td>\n",
              "      <td>0.0</td>\n",
              "      <td>1.0</td>\n",
              "      <td>Yes</td>\n",
              "    </tr>\n",
              "    <tr>\n",
              "      <th>2</th>\n",
              "      <td>2</td>\n",
              "      <td>a100000031</td>\n",
              "      <td>2018-01-01</td>\n",
              "      <td>House Ads</td>\n",
              "      <td>personalization</td>\n",
              "      <td>True</td>\n",
              "      <td>English</td>\n",
              "      <td>English</td>\n",
              "      <td>24-30 years</td>\n",
              "      <td>2018-01-01</td>\n",
              "      <td>NaN</td>\n",
              "      <td>House Ads</td>\n",
              "      <td>True</td>\n",
              "      <td>0.0</td>\n",
              "      <td>1.0</td>\n",
              "      <td>Yes</td>\n",
              "    </tr>\n",
              "    <tr>\n",
              "      <th>3</th>\n",
              "      <td>3</td>\n",
              "      <td>a100000032</td>\n",
              "      <td>2018-01-01</td>\n",
              "      <td>House Ads</td>\n",
              "      <td>personalization</td>\n",
              "      <td>True</td>\n",
              "      <td>English</td>\n",
              "      <td>English</td>\n",
              "      <td>30-36 years</td>\n",
              "      <td>2018-01-01</td>\n",
              "      <td>NaN</td>\n",
              "      <td>House Ads</td>\n",
              "      <td>True</td>\n",
              "      <td>0.0</td>\n",
              "      <td>1.0</td>\n",
              "      <td>Yes</td>\n",
              "    </tr>\n",
              "    <tr>\n",
              "      <th>4</th>\n",
              "      <td>4</td>\n",
              "      <td>a100000033</td>\n",
              "      <td>2018-01-01</td>\n",
              "      <td>House Ads</td>\n",
              "      <td>personalization</td>\n",
              "      <td>True</td>\n",
              "      <td>English</td>\n",
              "      <td>English</td>\n",
              "      <td>36-45 years</td>\n",
              "      <td>2018-01-01</td>\n",
              "      <td>NaN</td>\n",
              "      <td>House Ads</td>\n",
              "      <td>True</td>\n",
              "      <td>0.0</td>\n",
              "      <td>1.0</td>\n",
              "      <td>Yes</td>\n",
              "    </tr>\n",
              "  </tbody>\n",
              "</table>\n",
              "</div>"
            ],
            "text/plain": [
              "   Unnamed: 0     user_id date_served  ...  DoW channel_code  is_correct_lang\n",
              "0           0  a100000029  2018-01-01  ...  0.0          1.0              Yes\n",
              "1           1  a100000030  2018-01-01  ...  0.0          1.0              Yes\n",
              "2           2  a100000031  2018-01-01  ...  0.0          1.0              Yes\n",
              "3           3  a100000032  2018-01-01  ...  0.0          1.0              Yes\n",
              "4           4  a100000033  2018-01-01  ...  0.0          1.0              Yes\n",
              "\n",
              "[5 rows x 16 columns]"
            ]
          },
          "metadata": {
            "tags": []
          },
          "execution_count": 1
        }
      ]
    },
    {
      "cell_type": "markdown",
      "metadata": {
        "id": "XtMyzMnA6QD_",
        "colab_type": "text"
      },
      "source": [
        "#### **1. Test allocation**\n"
      ]
    },
    {
      "cell_type": "code",
      "metadata": {
        "id": "XhbrW7T6KXer",
        "colab_type": "code",
        "outputId": "65fa900d-ade7-46c6-d100-e2829266fb1f",
        "colab": {
          "base_uri": "https://localhost:8080/",
          "height": 85
        }
      },
      "source": [
        "# For this A/B testing, users whose marketing channel is email were segregated into two groups: control and treatment group.\n",
        "# Treatment group received a personalized email. The classification is stored in the variant column\n",
        "\n",
        "email_df = marketing[marketing['marketing_channel'] == 'Email']\n",
        "user_alloc = email_df.groupby('variant')['user_id'].nunique()\n",
        "user_alloc"
      ],
      "execution_count": 2,
      "outputs": [
        {
          "output_type": "execute_result",
          "data": {
            "text/plain": [
              "variant\n",
              "control            270\n",
              "personalization    284\n",
              "Name: user_id, dtype: int64"
            ]
          },
          "metadata": {
            "tags": []
          },
          "execution_count": 2
        }
      ]
    },
    {
      "cell_type": "code",
      "metadata": {
        "id": "5L3e3sXd8AGx",
        "colab_type": "code",
        "outputId": "5e871894-a484-46fb-8aac-b51dd9d78c2d",
        "colab": {
          "base_uri": "https://localhost:8080/",
          "height": 336
        }
      },
      "source": [
        "# Visualize the user allocation. I cleaned up the viz a bit, remove the frame and move the data labels into within the bars themselves\n",
        "plt.figure(figsize=(4,5))\n",
        "bars = plt.bar(['control','treatment'],user_alloc, width=0.5)\n",
        "plt.title('Number of users in control vs treatment group')\n",
        "plt.ylabel('# of users')\n",
        "plt.box(False)\n",
        "plt.tick_params(left=False, bottom=False, labelleft=False)\n",
        "plt.xticks(rotation=0)\n",
        "for bar in bars: # direct label each bar with Y axis values\n",
        "    plt.gca().text(bar.get_x() + bar.get_width()/2, bar.get_height() - 15, str(int(bar.get_height())), \n",
        "                 ha='center', color='w', fontsize=11)\n",
        "\n",
        "plt.show()\n"
      ],
      "execution_count": 3,
      "outputs": [
        {
          "output_type": "display_data",
          "data": {
            "image/png": "[encoded data removed]",
            "text/plain": [
              "<Figure size 288x360 with 1 Axes>"
            ]
          },
          "metadata": {
            "tags": []
          }
        }
      ]
    },
    {
      "cell_type": "markdown",
      "metadata": {
        "id": "XSm7L8-bKl2F",
        "colab_type": "text"
      },
      "source": [
        "> As we can observe there isn't a big difference between the two groups. However, in real life, experimenters will need to bear in mind that having the same numbers of users in these groups may not guarantee a meaningful results. Randomness for instance is very important in allocating your users and without it your groups might be very skewed and not an accurate representation."
      ]
    },
    {
      "cell_type": "markdown",
      "metadata": {
        "id": "XeotK4TTDU0U",
        "colab_type": "text"
      },
      "source": [
        "#### **2. Lift and Statistical Significance**\n",
        "\n",
        "> Lift is the first question to ask in A/B testing. It is the % difference between your control page and a successful test variant. In this context, the question is - Is my conversion rate under the treatment group higher than the control group, and by how much?\n",
        "\n",
        "> \n",
        "\n",
        "\n",
        "\n",
        "\n",
        "\n",
        "\n"
      ]
    },
    {
      "cell_type": "code",
      "metadata": {
        "id": "2lHm5FDwNTbn",
        "colab_type": "code",
        "outputId": "ed98ca2d-8048-4426-eb59-bfbecf0049f3",
        "colab": {
          "base_uri": "https://localhost:8080/",
          "height": 68
        }
      },
      "source": [
        "# Extract conversion results of control and treatment groups\n",
        "\n",
        "subscriber_df = email_df.groupby(['user_id','variant'])['converted'].max().unstack(level=1)\n",
        "control = subscriber_df['control'].dropna()\n",
        "treatment = subscriber_df['personalization'].dropna()\n",
        "\n",
        "# Calculate lift\n",
        "control_conv = np.mean(control)\n",
        "treatment_conv = np.mean(treatment)\n",
        "lift = (treatment_conv - control_conv)/control_conv\n",
        "\n",
        "print('Control conversion rate: '+'{:.2%}'.format(control_conv)) \n",
        "print('Treatment conversion rate: '+'{:.2%}'.format(treatment_conv)) \n",
        "print('Lift: '+'{:.2%}'.format(lift)) "
      ],
      "execution_count": 4,
      "outputs": [
        {
          "output_type": "stream",
          "text": [
            "Control conversion rate: 28.15%\n",
            "Treatment conversion rate: 39.08%\n",
            "Lift: 38.85%\n"
          ],
          "name": "stdout"
        }
      ]
    },
    {
      "cell_type": "markdown",
      "metadata": {
        "id": "GGDyjHXdMH4L",
        "colab_type": "text"
      },
      "source": [
        "> 38.85% seems to be a pretty good result, but how certain are we that the result obtained under our treatment group did not just happen by chance? Statistical significance is a validator of our calculated lift. To measure this, we employ the scipy stats's independent t-test, with significance level = 5%. I'm not going into details of what t-test is exactly, but there are plenty of resources online that you can look into (Khan Academy AP Stats is a good start). \n",
        "\n"
      ]
    },
    {
      "cell_type": "code",
      "metadata": {
        "id": "9L2G6FDdLiNU",
        "colab_type": "code",
        "outputId": "c88733be-5cb8-42de-d067-3bceb80e8bb2",
        "colab": {
          "base_uri": "https://localhost:8080/",
          "height": 34
        }
      },
      "source": [
        "ttest = ttest_ind(control,treatment)\n",
        "print(ttest)"
      ],
      "execution_count": 5,
      "outputs": [
        {
          "output_type": "stream",
          "text": [
            "Ttest_indResult(statistic=-2.7343299447505074, pvalue=0.006451487844694175)\n"
          ],
          "name": "stdout"
        }
      ]
    },
    {
      "cell_type": "markdown",
      "metadata": {
        "id": "9vy5m2UVPN2H",
        "colab_type": "text"
      },
      "source": [
        "> Our p-value is less than our significance level of 5%, which means we can reject the null hypothesis, and that our result is statistically significant.\n",
        "\n"
      ]
    },
    {
      "cell_type": "markdown",
      "metadata": {
        "id": "B5DlswQdPjh9",
        "colab_type": "text"
      },
      "source": [
        "#### 3. A/B testing and segmentation"
      ]
    },
    {
      "cell_type": "markdown",
      "metadata": {
        "id": "3rtVYZrnuMDj",
        "colab_type": "text"
      },
      "source": [
        "> Overall, the A/B testing result indicates that personalized emails lead to a higher conversion rate compared to a normal email. However, is this the case for all customer segments ? Bear in mind that different customer segments may react differently to a product functionality or marketing tactics.\n",
        "\n",
        "> In this section, we will break down the A/B testing result further to different customer segments. It would not be ideal to rewrite all the code from scratch for each segment, so we will define a function that can be reuseable, knowing that our dataset format will remain the same."
      ]
    },
    {
      "cell_type": "code",
      "metadata": {
        "id": "RKsAPXTyMq1S",
        "colab_type": "code",
        "colab": {}
      },
      "source": [
        "# Build a function for calculating lift\n",
        "\n",
        "def AB_lift(control,treatment):\n",
        "  control_conv = np.mean(control)\n",
        "  treatment_conv = np.mean(treatment)\n",
        "  return (treatment_conv - control_conv)/control_conv\n",
        "  \n",
        "# Build a function for calculating p-value\n",
        "\n",
        "def AB_ttest(control,treatment):\n",
        "  return ttest_ind(control,treatment)[1]\n",
        "\n",
        "# Build a function to go through each customer subsegment from a segment column specified by the user\n",
        "\n",
        "def AB_test(segment):\n",
        "  # Build a for loop for each subsegment\n",
        "  for subsegment in np.unique(marketing[segment].values):\n",
        "    print(subsegment)\n",
        "\n",
        "    # Filter users reached via email and belonging to relevant subsegment\n",
        "    marketing_filtered = marketing[(marketing['marketing_channel'] == 'Email') & (marketing[segment] == subsegment)]\n",
        "\n",
        "    # Repeat the same steps in section 2\n",
        "    subscriber_df = marketing_filtered.groupby(['user_id','variant'])['converted'].max().unstack(level=1)\n",
        "    control = subscriber_df['control'].dropna()\n",
        "    treatment = subscriber_df['personalization'].dropna()\n",
        "\n",
        "    # Return lift and p-value as a tuple\n",
        "    print('Lift: '+ str(AB_lift(control,treatment)) + ', '+'p-value: '+ str(AB_ttest(control,treatment)))\n",
        "\n",
        "\n",
        "\n",
        "  \n",
        "\n"
      ],
      "execution_count": 0,
      "outputs": []
    },
    {
      "cell_type": "code",
      "metadata": {
        "id": "w-WQpBP40qRq",
        "colab_type": "code",
        "colab": {
          "base_uri": "https://localhost:8080/",
          "height": 153
        },
        "outputId": "01cda5c3-8364-462a-bfce-4716118a7a6e"
      },
      "source": [
        "# Run our function on language displayed\n",
        "\n",
        "AB_test('language_displayed')"
      ],
      "execution_count": 17,
      "outputs": [
        {
          "output_type": "stream",
          "text": [
            "Arabic\n",
            "Lift: 0.4999999999999999, p-value: 0.5795840000000001\n",
            "English\n",
            "Lift: 0.3900293255131965, p-value: 0.026991701290720815\n",
            "German\n",
            "Lift: -0.016203703703703685, p-value: 0.8494394170062678\n",
            "Spanish\n",
            "Lift: 1.6666666666666667, p-value: 0.040156718110477524\n"
          ],
          "name": "stdout"
        }
      ]
    },
    {
      "cell_type": "code",
      "metadata": {
        "id": "olDOLfO-1-3b",
        "colab_type": "code",
        "colab": {}
      },
      "source": [
        "# It looks like our personalized emails worked very well for Spanish audience, but not so much for German audience."
      ],
      "execution_count": 0,
      "outputs": []
    },
    {
      "cell_type": "code",
      "metadata": {
        "id": "KdKt9F5p02Mg",
        "colab_type": "code",
        "colab": {
          "base_uri": "https://localhost:8080/",
          "height": 255
        },
        "outputId": "99fc7c85-c1c9-4b5f-cd85-63787d005d59"
      },
      "source": [
        "# And another one on age group\n",
        "\n",
        "AB_test('age_group')"
      ],
      "execution_count": 19,
      "outputs": [
        {
          "output_type": "stream",
          "text": [
            "0-18 years\n",
            "Lift: 1.2140000000000002, p-value: 0.0038724494391297226\n",
            "19-24 years\n",
            "Lift: 1.0624151967435547, p-value: 0.0030623836114689134\n",
            "24-30 years\n",
            "Lift: 1.611851851851852, p-value: 0.00018743381094867337\n",
            "30-36 years\n",
            "Lift: -1.0, p-value: 0.0023238487431765137\n",
            "36-45 years\n",
            "Lift: -0.8522727272727273, p-value: 0.01797568600978829\n",
            "45-55 years\n",
            "Lift: -0.7222222222222223, p-value: 0.043062339688201196\n",
            "55+ years\n",
            "Lift: -1.0, p-value: 0.0016358623456360435\n"
          ],
          "name": "stdout"
        }
      ]
    },
    {
      "cell_type": "code",
      "metadata": {
        "id": "0pTDGF-U11-v",
        "colab_type": "code",
        "colab": {}
      },
      "source": [
        "# Results suggest our younger audience responded more positively to the personlized emails, whereas the older audience were less welcoming.\n",
        "# Perhaps they thought it sounded like an invasion of privacy ?\n",
        "# Either way, segmentation helps the marketing team drill down further and tweak their experiments accordingly."
      ],
      "execution_count": 0,
      "outputs": []
    },
    {
      "cell_type": "markdown",
      "metadata": {
        "id": "DbjILaOU2oAm",
        "colab_type": "text"
      },
      "source": [
        "**Potential extensions:**\n",
        "\n",
        "The AB test analysis above is still fairly basic, and there is a lot of room for improvements. For example, one can improve the AB_test function to include a bar chart of the lift values for the segments. This should be relatively easy. There are also more AB tests that the team could run, for example, sending emails on a weekday vs a weekend. The result can be analyzed in a similar fashion.\n",
        "\n"
      ]
    },
    {
      "cell_type": "code",
      "metadata": {
        "id": "GLzpF6ln2iFD",
        "colab_type": "code",
        "colab": {}
      },
      "source": [
        ""
      ],
      "execution_count": 0,
      "outputs": []
    }
  ]
}